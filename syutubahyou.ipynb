{
 "cells": [
  {
   "cell_type": "code",
   "execution_count": 27,
   "id": "e3cbb500",
   "metadata": {},
   "outputs": [],
   "source": [
    "from bs4 import BeautifulSoup \n",
    "import numpy as np\n",
    "import requests\n",
    "import pandas as pd\n",
    "import re\n",
    "import math\n",
    "import statistics as st\n",
    "import time\n",
    "from operator import itemgetter\n",
    "import datetime\n",
    "import os\n",
    "import collections"
   ]
  },
  {
   "cell_type": "code",
   "execution_count": 55,
   "id": "32df6d9e",
   "metadata": {},
   "outputs": [
    {
     "name": "stdout",
     "output_type": "stream",
     "text": [
      "https://race.netkeiba.com/race/shutuba.html?race_id=202205030411\n"
     ]
    }
   ],
   "source": [
    "url = input()\n",
    "res = requests.get(url)\n",
    "res.encoding = res.apparent_encoding\n",
    "soup = BeautifulSoup(res.content,features='html.parser')"
   ]
  },
  {
   "cell_type": "code",
   "execution_count": 58,
   "id": "3f71b677",
   "metadata": {},
   "outputs": [],
   "source": [
    "horse_list = soup.find_all('tr', attrs={'class':'HorseList'})\n",
    "race_name = soup.find('div', attrs={'class':'RaceName'}).text[:5]"
   ]
  },
  {
   "cell_type": "code",
   "execution_count": 59,
   "id": "aaa76da1",
   "metadata": {
    "scrolled": false
   },
   "outputs": [],
   "source": [
    "horse_name = []\n",
    "horse_url = []\n",
    "umaban = []\n",
    "wakuban = []\n",
    "sex = []\n",
    "age = []\n",
    "kinryo = []\n",
    "jockey = []\n",
    "weight = []\n",
    "weight_2 = []\n",
    "\n",
    "\n",
    "\n",
    "for i in horse_list:\n",
    "    try:\n",
    "        wakuban.append(int(i.find_all('td')[0].find('span').text))\n",
    "        umaban.append(int(i.find_all('td')[1].text))\n",
    "    except ValueError:\n",
    "        wakuban.append(i.find_all('td')[0].find('span').text)\n",
    "        umaban.append(i.find_all('td')[1].text)\n",
    "        \n",
    "    horse_name.append(i.find('span', attrs={'class':'HorseName'}).text)\n",
    "    horse_url.append(i.find('a').get('href'))\n",
    "    for j, k in enumerate(i.find('td', attrs={'class':'Barei Txt_C'}).text):\n",
    "        if j == 0:\n",
    "            sex.append(k)\n",
    "        else:\n",
    "            age.append(int(k))\n",
    "    kinryo.append(float(i.find_all('td', attrs={'class':'Txt_C'})[3].text))\n",
    "    jockey.append(i.find('td', attrs={'class':'Jockey'}).text.strip())\n",
    "    try:\n",
    "        weight.append(int(i.find('td', attrs={'class':'Weight'}).text))\n",
    "        weight_2.append(int(i.find('td', attrs={'class':'Weight'}).text))\n",
    "    except ValueError:\n",
    "        weight.append(i.find('td', attrs={'class':'Weight'}).text)\n",
    "        weight_2.append(i.find('td', attrs={'class':'Weight'}).text)\n",
    "    \n",
    "    \n",
    "    \n",
    "    "
   ]
  },
  {
   "cell_type": "code",
   "execution_count": 60,
   "id": "d15ca5de",
   "metadata": {},
   "outputs": [],
   "source": [
    "papa, mama, mamapapa, pre_race,pre_race_info ,pre_race_result, time, tyakusa, pre_race_pop, corner_rank, pace, agari = [], [], [], [], [], [], [], [], [], [], [], []\n",
    "for i in horse_url:\n",
    "    res = requests.get(i)\n",
    "    res.encoding = res.apparent_encoding\n",
    "    soup = BeautifulSoup(res.content,features='html.parser')\n",
    "    #血統の取得\n",
    "    blood_table = soup.find('table', attrs={'class':'blood_table'})\n",
    "    papa.append(blood_table.find_all('td', attrs={'class':'b_ml'})[0].text.strip())\n",
    "    mama.append(blood_table.find_all('td', attrs={'class':'b_fml'})[1].text.strip())\n",
    "    mamapapa.append(blood_table.find_all('td', attrs={'class':'b_ml'})[2].text.strip())\n",
    "    #前走情報の取得\n",
    "    race_results = soup.find('table', attrs={'class':'db_h_race_results nk_tb_common'}).find('tbody')\n",
    "    if race_results.find_all('td')[11] != '除':\n",
    "        pre_race.append(race_results.find_all('td')[4].text)\n",
    "        pre_race_info.append(race_results.find_all('td')[14].text)\n",
    "        pre_race_result.append(int(race_results.find_all('td')[11].text))\n",
    "        time.append(race_results.find_all('td')[17].text)\n",
    "        tyakusa.append(float(race_results.find_all('td')[18].text))\n",
    "        pre_race_pop.append(int(race_results.find_all('td')[10].text))\n",
    "        corner_rank.append(race_results.find_all('td')[20].text)\n",
    "        pace.append(race_results.find_all('td')[21].text)\n",
    "        agari.append(float(race_results.find_all('td')[22].text))\n",
    "    else:\n",
    "        pre_race.append(race_results.find_all('td')[32].text)\n",
    "        pre_race_info.append(race_results.find_all('td')[42].text)\n",
    "        pre_race_result.append(int(race_results.find_all('td')[39].text))\n",
    "        time.append(race_results.find_all('td')[45].text)\n",
    "        tyakusa.append(float(race_results.find_all('td')[46].text))\n",
    "        pre_race_pop.append(int(race_results.find_all('td')[38].text))\n",
    "        corner_rank.append(race_results.find_all('td')[48].text)\n",
    "        pace.append(race_results.find_all('td')[49].text)\n",
    "        agari.append(float(race_results.find_all('td')[50].text))\n",
    "\n",
    "\n"
   ]
  },
  {
   "cell_type": "code",
   "execution_count": 61,
   "id": "baa0b1e3",
   "metadata": {},
   "outputs": [],
   "source": [
    "df = pd.DataFrame(\n",
    "    {\n",
    "        '馬番':umaban,\n",
    "        '枠番':wakuban,\n",
    "        '馬名':horse_name,\n",
    "        '性':sex,\n",
    "        '齢':age,\n",
    "        '斤量':kinryo,\n",
    "        '騎手':jockey,\n",
    "        '馬体重':weight,\n",
    "        '馬体重増減':weight_2,\n",
    "        '父':papa,\n",
    "        '母':mama,\n",
    "        '母父':mamapapa,\n",
    "        '前走':pre_race,\n",
    "        '前走距離':pre_race_info,\n",
    "        '前走着順':pre_race_result,\n",
    "        '前走人気':pre_race_pop,\n",
    "        '前走タイム':time,\n",
    "        '前走着差':tyakusa,\n",
    "        '前走通過順位':corner_rank,\n",
    "        '前走ペース':pace,\n",
    "        '前走上がり':agari\n",
    "    }\n",
    ")"
   ]
  },
  {
   "cell_type": "code",
   "execution_count": 62,
   "id": "6f806690",
   "metadata": {},
   "outputs": [],
   "source": [
    "dir_path = \"C:/Users/sashi/OneDrive/デスクトップ/競馬データ/\"+race_name+\"/出馬表.xlsx\"\n",
    "with pd.ExcelWriter(dir_path) as writer:\n",
    "    df.to_excel(writer,sheet_name='出馬表',encoding='shift_jis',index=False)"
   ]
  },
  {
   "cell_type": "code",
   "execution_count": null,
   "id": "03fa6dd3",
   "metadata": {},
   "outputs": [],
   "source": []
  }
 ],
 "metadata": {
  "kernelspec": {
   "display_name": "Python 3 (ipykernel)",
   "language": "python",
   "name": "python3"
  },
  "language_info": {
   "codemirror_mode": {
    "name": "ipython",
    "version": 3
   },
   "file_extension": ".py",
   "mimetype": "text/x-python",
   "name": "python",
   "nbconvert_exporter": "python",
   "pygments_lexer": "ipython3",
   "version": "3.10.2"
  }
 },
 "nbformat": 4,
 "nbformat_minor": 5
}

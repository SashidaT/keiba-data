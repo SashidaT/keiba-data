{
 "cells": [
  {
   "cell_type": "code",
   "execution_count": 95,
   "id": "e3cbb500",
   "metadata": {},
   "outputs": [],
   "source": [
    "from bs4 import BeautifulSoup \n",
    "import numpy as np\n",
    "import requests\n",
    "import pandas as pd\n",
    "import re\n",
    "import math\n",
    "import statistics as st\n",
    "import time\n",
    "from operator import itemgetter\n",
    "import datetime\n",
    "import os\n",
    "import collections"
   ]
  },
  {
   "cell_type": "code",
   "execution_count": 50,
   "id": "32df6d9e",
   "metadata": {},
   "outputs": [
    {
     "name": "stdout",
     "output_type": "stream",
     "text": [
      "https://race.netkeiba.com/race/shutuba.html?race_id=202205030411\n"
     ]
    }
   ],
   "source": [
    "url = input()\n",
    "res = requests.get(url)\n",
    "res.encoding = res.apparent_encoding\n",
    "soup = BeautifulSoup(res.content,features='html.parser')"
   ]
  },
  {
   "cell_type": "code",
   "execution_count": 51,
   "id": "3f71b677",
   "metadata": {},
   "outputs": [],
   "source": [
    "horse_list = soup.find_all('tr', attrs={'class':'HorseList'})"
   ]
  },
  {
   "cell_type": "code",
   "execution_count": 89,
   "id": "aaa76da1",
   "metadata": {
    "scrolled": false
   },
   "outputs": [],
   "source": [
    "horse_name = []\n",
    "horse_url = []\n",
    "umaban = []\n",
    "wakuban = []\n",
    "sex = []\n",
    "age = []\n",
    "kinryo = []\n",
    "jockey = []\n",
    "weight = []\n",
    "weight_2 = []\n",
    "\n",
    "\n",
    "\n",
    "for i in horse_list:\n",
    "    try:\n",
    "        wakuban.append(int(i.find('td', attrs={'class':'Waku Txt_C'}).find('span').text))\n",
    "        umaban.append(int(i.find('td', attrs={'class':'Umaban Txt_C'}).text))\n",
    "    except ValueError:\n",
    "        wakuban.append(i.find('td', attrs={'class':'Waku Txt_C'}).find('span').text)\n",
    "        umaban.append(i.find('td', attrs={'class':'Umaban Txt_C'}).text)\n",
    "        \n",
    "    horse_name.append(i.find('span', attrs={'class':'HorseName'}).text)\n",
    "    horse_url.append(i.find('a').get('href'))\n",
    "    for j, k in enumerate(i.find('td', attrs={'class':'Barei Txt_C'}).text):\n",
    "        if j == 0:\n",
    "            sex.append(k)\n",
    "        else:\n",
    "            age.append(int(k))\n",
    "    kinryo.append(float(i.find_all('td', attrs={'class':'Txt_C'})[3].text))\n",
    "    jockey.append(i.find('td', attrs={'class':'Jockey'}).text.strip())\n",
    "    try:\n",
    "        weight.append(int(i.find('td', attrs={'class':'Weight'}).text))\n",
    "        weight_2.append(int(i.find('td', attrs={'class':'Weight'}).text))\n",
    "    except ValueError:\n",
    "        weight.append(i.find('td', attrs={'class':'Weight'}).text)\n",
    "        weight_2.append(i.find('td', attrs={'class':'Weight'}).text)\n",
    "    \n",
    "    \n",
    "    \n",
    "    "
   ]
  },
  {
   "cell_type": "markdown",
   "id": "d2ce3fff",
   "metadata": {},
   "source": [
    "レースページから馬の情報を引っ張てこれるようになった。\n",
    "これからここの馬のページから馬の血統、前走の成績を引っ張てくる"
   ]
  }
 ],
 "metadata": {
  "kernelspec": {
   "display_name": "Python 3 (ipykernel)",
   "language": "python",
   "name": "python3"
  },
  "language_info": {
   "codemirror_mode": {
    "name": "ipython",
    "version": 3
   },
   "file_extension": ".py",
   "mimetype": "text/x-python",
   "name": "python",
   "nbconvert_exporter": "python",
   "pygments_lexer": "ipython3",
   "version": "3.10.2"
  }
 },
 "nbformat": 4,
 "nbformat_minor": 5
}
